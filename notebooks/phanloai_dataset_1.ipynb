{
 "cells": [
  {
   "cell_type": "code",
   "execution_count": 1,
   "id": "ac3aa2d8",
   "metadata": {},
   "outputs": [],
   "source": [
    "import os\n",
    "import shutil\n",
    "import random\n",
    "from sklearn.model_selection import train_test_split\n",
    "import numpy as np\n",
    "from tqdm import tqdm"
   ]
  },
  {
   "cell_type": "code",
   "execution_count": 8,
   "id": "9bb8efb0",
   "metadata": {},
   "outputs": [],
   "source": [
    "# Đường dẫn gốc\n",
    "dataset_path = 'd:/MRI_4/dataset_1'\n",
    "output_path = 'd:/MRI_4/dataset_1_reorganized'"
   ]
  },
  {
   "cell_type": "code",
   "execution_count": 9,
   "id": "7b182497",
   "metadata": {},
   "outputs": [],
   "source": [
    "# Tạo cấu trúc thư mục mới\n",
    "folders = ['train', 'validation', 'test']\n",
    "classes = ['Glioma', 'Meningioma', 'No_Tumor', 'Pituitary']"
   ]
  },
  {
   "cell_type": "code",
   "execution_count": 29,
   "id": "f9c97faf",
   "metadata": {},
   "outputs": [],
   "source": [
    "# Tạo thư mục mới\n",
    "for folder in folders:\n",
    "    folder_path = os.path.join(output_path, folder)\n",
    "    if not os.path.exists(folder_path):\n",
    "        os.makedirs(folder_path)\n",
    "    \n",
    "    for class_name in classes:\n",
    "        class_path = os.path.join(folder_path, class_name)\n",
    "        if not os.path.exists(class_path):\n",
    "            os.makedirs(class_path)\n"
   ]
  },
  {
   "cell_type": "code",
   "execution_count": 30,
   "id": "686d2893",
   "metadata": {},
   "outputs": [
    {
     "name": "stdout",
     "output_type": "stream",
     "text": [
      "=== KIỂM TRA CẤU TRÚC DATASET 1 ===\n",
      "\n",
      "Thư mục Training:\n",
      "Các thư mục con: ['glioma_tumor', 'meningioma_tumor', 'no_tumor', 'pituitary_tumor']\n",
      "  - glioma_tumor: 1321 files\n",
      "  - meningioma_tumor: 1339 files\n",
      "  - no_tumor: 1595 files\n",
      "  - pituitary_tumor: 1457 files\n",
      "\n",
      "Thư mục Testing:\n",
      "Các thư mục con: ['glioma', 'meningioma', 'notumor', 'pituitary']\n",
      "  - glioma: 300 files\n",
      "  - meningioma: 306 files\n",
      "  - notumor: 405 files\n",
      "  - pituitary: 300 files\n"
     ]
    }
   ],
   "source": [
    "# Kiểm tra cấu trúc thư mục gốc\n",
    "def check_dataset_structure():\n",
    "    print(\"=== KIỂM TRA CẤU TRÚC DATASET 1 ===\")\n",
    "    \n",
    "    # Kiểm tra thư mục Training\n",
    "    print(\"\\nThư mục Training:\")\n",
    "    training_folders = os.listdir(os.path.join(dataset_path, 'Training'))\n",
    "    print(f\"Các thư mục con: {training_folders}\")\n",
    "    \n",
    "    for folder in training_folders:\n",
    "        path = os.path.join(dataset_path, 'Training', folder)\n",
    "        if os.path.isdir(path):\n",
    "            files = os.listdir(path)\n",
    "            print(f\"  - {folder}: {len(files)} files\")\n",
    "            \n",
    "            # Kiểm tra xem có thư mục con không\n",
    "            subdirs = [f for f in files if os.path.isdir(os.path.join(path, f))]\n",
    "            if subdirs:\n",
    "                print(f\"    Có {len(subdirs)} thư mục con: {subdirs}\")\n",
    "    \n",
    "    # Kiểm tra thư mục Testing\n",
    "    print(\"\\nThư mục Testing:\")\n",
    "    testing_folders = os.listdir(os.path.join(dataset_path, 'Testing'))\n",
    "    print(f\"Các thư mục con: {testing_folders}\")\n",
    "    \n",
    "    for folder in testing_folders:\n",
    "        path = os.path.join(dataset_path, 'Testing', folder)\n",
    "        if os.path.isdir(path):\n",
    "            files = os.listdir(path)\n",
    "            print(f\"  - {folder}: {len(files)} files\")\n",
    "            \n",
    "            # Kiểm tra xem có thư mục con không\n",
    "            subdirs = [f for f in files if os.path.isdir(os.path.join(path, f))]\n",
    "            if subdirs:\n",
    "                print(f\"    Có {len(subdirs)} thư mục con: {subdirs}\")\n",
    "\n",
    "# Chạy hàm kiểm tra\n",
    "check_dataset_structure()"
   ]
  },
  {
   "cell_type": "code",
   "execution_count": 31,
   "id": "059b0fad",
   "metadata": {},
   "outputs": [],
   "source": [
    "def reorganize_dataset():\n",
    "    # Biến đổi tên thư mục để phù hợp với cấu trúc\n",
    "    class_mapping = {\n",
    "        # Mapping cho tập Training\n",
    "        'glioma_tumor': 'Glioma',\n",
    "        'meningioma_tumor': 'Meningioma', \n",
    "        'no_tumor': 'No_Tumor',\n",
    "        'pituitary_tumor': 'Pituitary',\n",
    "        \n",
    "        # Mapping cho tập Testing\n",
    "        'glioma': 'Glioma',\n",
    "        'meningioma': 'Meningioma',\n",
    "        'notumor': 'No_Tumor',\n",
    "        'pituitary': 'Pituitary'\n",
    "    }\n",
    "    \n",
    "    # Thu thập tất cả các file\n",
    "    all_files = {}\n",
    "    \n",
    "    # Thu thập file từ tập Training\n",
    "    for class_folder in os.listdir(os.path.join(dataset_path, 'Training')):\n",
    "        standard_class_name = class_mapping.get(class_folder)\n",
    "        if standard_class_name:\n",
    "            class_path = os.path.join(dataset_path, 'Training', class_folder)\n",
    "            if standard_class_name not in all_files:\n",
    "                all_files[standard_class_name] = []\n",
    "            \n",
    "            for img_file in os.listdir(class_path):\n",
    "                all_files[standard_class_name].append(os.path.join(class_path, img_file))\n",
    "    \n",
    "    # Thu thập file từ tập Testing\n",
    "    for class_folder in os.listdir(os.path.join(dataset_path, 'Testing')):\n",
    "        standard_class_name = class_mapping.get(class_folder)  # Sử dụng mapping mới\n",
    "        if standard_class_name:\n",
    "            class_path = os.path.join(dataset_path, 'Testing', class_folder)\n",
    "            if standard_class_name not in all_files:\n",
    "                all_files[standard_class_name] = []\n",
    "                \n",
    "            for img_file in os.listdir(class_path):\n",
    "                all_files[standard_class_name].append(os.path.join(class_path, img_file))\n",
    "    \n",
    "    # Kiểm tra tổng số ảnh trước khi chia\n",
    "    total_images = sum(len(files) for files in all_files.values())\n",
    "    print(f\"Tổng số ảnh đã thu thập: {total_images}\")\n",
    "    \n",
    "    # Phần còn lại giữ nguyên\n",
    "    for class_name, files in all_files.items():\n",
    "        random.shuffle(files)\n",
    "        \n",
    "        # Chia tập train và temp (temp bao gồm validation và test)\n",
    "        train_files, temp_files = train_test_split(files, train_size=0.7, random_state=42)\n",
    "        \n",
    "        # Chia temp thành validation và test (50-50)\n",
    "        validation_files, test_files = train_test_split(temp_files, train_size=0.5, random_state=42)\n",
    "        \n",
    "        print(f\"Class {class_name}: {len(train_files)} train, {len(validation_files)} validation, {len(test_files)} test\")\n",
    "        \n",
    "        # Sao chép file vào thư mục mới tương ứng\n",
    "        for src_file in tqdm(train_files, desc=f\"Copying {class_name} train files\"):\n",
    "            dst_file = os.path.join(output_path, 'train', class_name, os.path.basename(src_file))\n",
    "            shutil.copy2(src_file, dst_file)\n",
    "            \n",
    "        for src_file in tqdm(validation_files, desc=f\"Copying {class_name} validation files\"):\n",
    "            dst_file = os.path.join(output_path, 'validation', class_name, os.path.basename(src_file))\n",
    "            shutil.copy2(src_file, dst_file)\n",
    "            \n",
    "        for src_file in tqdm(test_files, desc=f\"Copying {class_name} test files\"):\n",
    "            dst_file = os.path.join(output_path, 'test', class_name, os.path.basename(src_file))\n",
    "            shutil.copy2(src_file, dst_file)"
   ]
  },
  {
   "cell_type": "code",
   "execution_count": 32,
   "id": "f2b82f24",
   "metadata": {},
   "outputs": [
    {
     "name": "stdout",
     "output_type": "stream",
     "text": [
      "Tổng số ảnh đã thu thập: 7023\n",
      "Class Glioma: 1134 train, 243 validation, 244 test\n"
     ]
    },
    {
     "name": "stderr",
     "output_type": "stream",
     "text": [
      "Copying Glioma train files: 100%|██████████| 1134/1134 [00:02<00:00, 528.75it/s]\n",
      "Copying Glioma validation files: 100%|██████████| 243/243 [00:00<00:00, 656.45it/s]\n",
      "Copying Glioma test files: 100%|██████████| 244/244 [00:00<00:00, 891.55it/s]\n"
     ]
    },
    {
     "name": "stdout",
     "output_type": "stream",
     "text": [
      "Class Meningioma: 1151 train, 247 validation, 247 test\n"
     ]
    },
    {
     "name": "stderr",
     "output_type": "stream",
     "text": [
      "Copying Meningioma train files: 100%|██████████| 1151/1151 [00:02<00:00, 469.01it/s]\n",
      "Copying Meningioma validation files: 100%|██████████| 247/247 [00:00<00:00, 705.29it/s]\n",
      "Copying Meningioma test files: 100%|██████████| 247/247 [00:00<00:00, 667.73it/s]\n"
     ]
    },
    {
     "name": "stdout",
     "output_type": "stream",
     "text": [
      "Class No_Tumor: 1400 train, 300 validation, 300 test\n"
     ]
    },
    {
     "name": "stderr",
     "output_type": "stream",
     "text": [
      "Copying No_Tumor train files: 100%|██████████| 1400/1400 [00:02<00:00, 584.57it/s]\n",
      "Copying No_Tumor validation files: 100%|██████████| 300/300 [00:00<00:00, 700.83it/s]\n",
      "Copying No_Tumor test files: 100%|██████████| 300/300 [00:00<00:00, 946.63it/s]\n"
     ]
    },
    {
     "name": "stdout",
     "output_type": "stream",
     "text": [
      "Class Pituitary: 1229 train, 264 validation, 264 test\n"
     ]
    },
    {
     "name": "stderr",
     "output_type": "stream",
     "text": [
      "Copying Pituitary train files: 100%|██████████| 1229/1229 [00:02<00:00, 573.87it/s]\n",
      "Copying Pituitary validation files: 100%|██████████| 264/264 [00:00<00:00, 881.79it/s]\n",
      "Copying Pituitary test files: 100%|██████████| 264/264 [00:00<00:00, 830.81it/s]\n"
     ]
    }
   ],
   "source": [
    "# Thực thi việc tái tổ chức dữ liệu\n",
    "reorganize_dataset()"
   ]
  },
  {
   "cell_type": "code",
   "execution_count": 33,
   "id": "80e2778e",
   "metadata": {},
   "outputs": [
    {
     "name": "stdout",
     "output_type": "stream",
     "text": [
      "\n",
      "TRAIN SET:\n",
      "  Glioma: 1134 images\n",
      "  Meningioma: 1151 images\n",
      "  No_tumor: 1400 images\n",
      "  Pituitary: 1229 images\n",
      "\n",
      "VALIDATION SET:\n",
      "  Glioma: 243 images\n",
      "  Meningioma: 247 images\n",
      "  No_tumor: 300 images\n",
      "  Pituitary: 264 images\n",
      "\n",
      "TEST SET:\n",
      "  Glioma: 244 images\n",
      "  Meningioma: 247 images\n",
      "  No_tumor: 300 images\n",
      "  Pituitary: 264 images\n"
     ]
    }
   ],
   "source": [
    "# Kiểm tra số lượng ảnh trong từng tập\n",
    "for folder in folders:\n",
    "    print(f\"\\n{folder.upper()} SET:\")\n",
    "    for class_name in classes:\n",
    "        class_path = os.path.join(output_path, folder, class_name)\n",
    "        num_images = len(os.listdir(class_path))\n",
    "        print(f\"  {class_name.capitalize()}: {num_images} images\")"
   ]
  }
 ],
 "metadata": {
  "kernelspec": {
   "display_name": "Python 3",
   "language": "python",
   "name": "python3"
  },
  "language_info": {
   "codemirror_mode": {
    "name": "ipython",
    "version": 3
   },
   "file_extension": ".py",
   "mimetype": "text/x-python",
   "name": "python",
   "nbconvert_exporter": "python",
   "pygments_lexer": "ipython3",
   "version": "3.10.10"
  }
 },
 "nbformat": 4,
 "nbformat_minor": 5
}
